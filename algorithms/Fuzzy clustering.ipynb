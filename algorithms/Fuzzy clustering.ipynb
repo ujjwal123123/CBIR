{
 "cells": [
  {
   "cell_type": "markdown",
   "metadata": {},
   "source": [
    "# CBIR using Self Organising Maps"
   ]
  },
  {
   "cell_type": "code",
   "execution_count": 1,
   "metadata": {},
   "outputs": [],
   "source": [
    "from skimage import color, exposure, io\n",
    "import numpy as np\n"
   ]
  },
  {
   "cell_type": "code",
   "execution_count": 2,
   "metadata": {},
   "outputs": [],
   "source": [
    "images = io.imread_collection(\"../image/*.jpg\")\n",
    "bin_count = 10\n"
   ]
  },
  {
   "cell_type": "code",
   "execution_count": 3,
   "metadata": {},
   "outputs": [
    {
     "data": {
      "text/plain": [
       "1000"
      ]
     },
     "execution_count": 3,
     "metadata": {},
     "output_type": "execute_result"
    }
   ],
   "source": [
    "len(images)"
   ]
  },
  {
   "cell_type": "markdown",
   "metadata": {},
   "source": [
    "We use histogram (specifically gray histogram) as feature for each image. This\n",
    "function is provided by `skimage` library and normalizes the features\n",
    "automatically."
   ]
  },
  {
   "cell_type": "code",
   "execution_count": 4,
   "metadata": {},
   "outputs": [],
   "source": [
    "def get_histogram(image, bins_count):\n",
    "    gray, _ = exposure.histogram(\n",
    "        color.rgb2gray(image), normalize=True, nbins=bins_count, source_range=\"dtype\"\n",
    "    )\n",
    "\n",
    "    return gray\n"
   ]
  },
  {
   "cell_type": "code",
   "execution_count": 5,
   "metadata": {},
   "outputs": [],
   "source": [
    "histograms = np.array([get_histogram(image, bin_count) for image in images])\n"
   ]
  },
  {
   "cell_type": "code",
   "execution_count": 6,
   "metadata": {},
   "outputs": [
    {
     "data": {
      "text/plain": [
       "array([[0.        , 0.        , 0.        , ..., 0.2890625 , 0.10013835,\n",
       "        0.02768962],\n",
       "       [0.        , 0.        , 0.        , ..., 0.30341593, 0.10340373,\n",
       "        0.02308146],\n",
       "       [0.        , 0.        , 0.        , ..., 0.20243327, 0.11354574,\n",
       "        0.087382  ],\n",
       "       ...,\n",
       "       [0.        , 0.        , 0.        , ..., 0.20765177, 0.15883382,\n",
       "        0.46002197],\n",
       "       [0.        , 0.        , 0.        , ..., 0.13086955, 0.1078186 ,\n",
       "        0.02756755],\n",
       "       [0.        , 0.        , 0.        , ..., 0.24273682, 0.24477132,\n",
       "        0.05014038]])"
      ]
     },
     "execution_count": 6,
     "metadata": {},
     "output_type": "execute_result"
    }
   ],
   "source": [
    "histograms"
   ]
  },
  {
   "cell_type": "code",
   "execution_count": 7,
   "metadata": {},
   "outputs": [],
   "source": [
    "from fcmeans import FCM"
   ]
  },
  {
   "cell_type": "code",
   "execution_count": 8,
   "metadata": {},
   "outputs": [],
   "source": [
    "from sklearn.metrics import silhouette_score"
   ]
  },
  {
   "cell_type": "code",
   "execution_count": 9,
   "metadata": {},
   "outputs": [],
   "source": [
    "result = []\n",
    "\n",
    "for i in range(2, 11):\n",
    "    fuzzy_c_means = FCM(n_clusters=10)\n",
    "    fuzzy_c_means.fit(histograms)\n",
    "    result.append([i, silhouette_score(histograms, fuzzy_c_means.predict(histograms))])\n"
   ]
  },
  {
   "cell_type": "code",
   "execution_count": 10,
   "metadata": {},
   "outputs": [],
   "source": [
    "import pandas\n",
    "\n",
    "result_pandas = pandas.DataFrame(result, columns=[\"Cluster count\", \"Silhouette score\"])\n"
   ]
  },
  {
   "cell_type": "code",
   "execution_count": 11,
   "metadata": {},
   "outputs": [
    {
     "data": {
      "image/png": "[encoded data removed]",
      "text/plain": [
       "<Figure size 432x288 with 1 Axes>"
      ]
     },
     "metadata": {
      "needs_background": "light"
     },
     "output_type": "display_data"
    }
   ],
   "source": [
    "plot = result_pandas.plot(x=\"Cluster count\", y=\"Silhouette score\", ylim=(0, 0.5))\n",
    "plot.get_figure().savefig(\"fuzzy clustering.svg\")"
   ]
  },
  {
   "cell_type": "code",
   "execution_count": 13,
   "metadata": {},
   "outputs": [],
   "source": [
    "result_pandas.to_excel(\"fuzzy clustering.xlsx\")"
   ]
  },
  {
   "cell_type": "markdown",
   "metadata": {},
   "source": [
    "# Finding adjusted rand score"
   ]
  },
  {
   "cell_type": "code",
   "execution_count": 20,
   "metadata": {},
   "outputs": [],
   "source": [
    "fuzzy_c_means = FCM(n_clusters=10)\n",
    "fuzzy_c_means.fit(histograms)\n"
   ]
  },
  {
   "cell_type": "code",
   "execution_count": 25,
   "metadata": {},
   "outputs": [],
   "source": [
    "prediction = fuzzy_c_means.predict(histograms)"
   ]
  },
  {
   "cell_type": "code",
   "execution_count": 30,
   "metadata": {},
   "outputs": [],
   "source": [
    "true_labels = np.array([i for i in range(1000)]) // 100"
   ]
  },
  {
   "cell_type": "code",
   "execution_count": 36,
   "metadata": {},
   "outputs": [],
   "source": [
    "from sklearn.metrics.cluster import adjusted_rand_score"
   ]
  },
  {
   "cell_type": "code",
   "execution_count": 37,
   "metadata": {},
   "outputs": [
    {
     "data": {
      "text/plain": [
       "0.2159669594049619"
      ]
     },
     "execution_count": 37,
     "metadata": {},
     "output_type": "execute_result"
    }
   ],
   "source": [
    "adjusted_rand_score(true_labels, prediction)"
   ]
  }
 ],
 "metadata": {
  "interpreter": {
   "hash": "4ad027719b0c0a25794a95a32f7958301c58b5e221c7703d2733b6415c84db4d"
  },
  "kernelspec": {
   "display_name": "Python 3.9.7 64-bit ('Code-Kjb3QomJ': pipenv)",
   "name": "python3"
  },
  "language_info": {
   "codemirror_mode": {
    "name": "ipython",
    "version": 3
   },
   "file_extension": ".py",
   "mimetype": "text/x-python",
   "name": "python",
   "nbconvert_exporter": "python",
   "pygments_lexer": "ipython3",
   "version": "3.9.7"
  },
  "orig_nbformat": 4
 },
 "nbformat": 4,
 "nbformat_minor": 2
}
