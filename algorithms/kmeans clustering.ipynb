{
 "cells": [
  {
   "cell_type": "markdown",
   "metadata": {},
   "source": [
    "# CBIR using KMeans clustering"
   ]
  },
  {
   "cell_type": "code",
   "execution_count": 1,
   "metadata": {},
   "outputs": [],
   "source": [
    "from skimage import color, exposure, io\n",
    "import numpy as np"
   ]
  },
  {
   "cell_type": "code",
   "execution_count": 2,
   "metadata": {},
   "outputs": [],
   "source": [
    "images = io.imread_collection(\"../image/*.jpg\")"
   ]
  },
  {
   "cell_type": "markdown",
   "metadata": {},
   "source": [
    "We use histogram (specifically gray histogram) as feature for each image. This\n",
    "function is provided by `skimage` library and normalizes the features\n",
    "automatically."
   ]
  },
  {
   "cell_type": "code",
   "execution_count": 3,
   "metadata": {},
   "outputs": [],
   "source": [
    "def get_histogram(image, bins_count):\n",
    "    gray, _ = exposure.histogram(\n",
    "        color.rgb2gray(image), normalize=True, nbins=bins_count, source_range=\"dtype\"\n",
    "    )\n",
    "\n",
    "    return gray\n"
   ]
  },
  {
   "cell_type": "code",
   "execution_count": 4,
   "metadata": {},
   "outputs": [],
   "source": [
    "from sklearn import cluster, metrics"
   ]
  },
  {
   "cell_type": "markdown",
   "metadata": {},
   "source": [
    "## Varying cluster count"
   ]
  },
  {
   "cell_type": "markdown",
   "metadata": {},
   "source": [
    "We try different values of cluster and attempt to find the value that gives best\n",
    "result."
   ]
  },
  {
   "cell_type": "code",
   "execution_count": 5,
   "metadata": {},
   "outputs": [],
   "source": [
    "histograms = np.array([get_histogram(image, 10) for image in images])\n",
    "\n",
    "result = []\n",
    "\n",
    "for i in range(2, 30, 2):\n",
    "    kmeans = cluster.KMeans(n_clusters=i)\n",
    "    kmeans.fit(histograms)\n",
    "    result.append(\n",
    "        [i, metrics.silhouette_score(histograms, kmeans.labels_), kmeans.inertia_]\n",
    "    )\n"
   ]
  },
  {
   "cell_type": "code",
   "execution_count": 6,
   "metadata": {},
   "outputs": [],
   "source": [
    "import pandas\n",
    "\n",
    "result_pandas = pandas.DataFrame(\n",
    "    result, columns=[\"Cluster count\", \"Silhouette Score\", \"Inertia\"]\n",
    ")\n"
   ]
  },
  {
   "cell_type": "code",
   "execution_count": 7,
   "metadata": {},
   "outputs": [
    {
     "data": {
      "text/html": [
       "<div>\n",
       "<style scoped>\n",
       "    .dataframe tbody tr th:only-of-type {\n",
       "        vertical-align: middle;\n",
       "    }\n",
       "\n",
       "    .dataframe tbody tr th {\n",
       "        vertical-align: top;\n",
       "    }\n",
       "\n",
       "    .dataframe thead th {\n",
       "        text-align: right;\n",
       "    }\n",
       "</style>\n",
       "<table border=\"1\" class=\"dataframe\">\n",
       "  <thead>\n",
       "    <tr style=\"text-align: right;\">\n",
       "      <th></th>\n",
       "      <th>Silhouette Score</th>\n",
       "      <th>Inertia</th>\n",
       "    </tr>\n",
       "  </thead>\n",
       "  <tbody>\n",
       "    <tr>\n",
       "      <th>0</th>\n",
       "      <td>0.575087</td>\n",
       "      <td>79.046700</td>\n",
       "    </tr>\n",
       "    <tr>\n",
       "      <th>1</th>\n",
       "      <td>0.334894</td>\n",
       "      <td>37.832920</td>\n",
       "    </tr>\n",
       "    <tr>\n",
       "      <th>2</th>\n",
       "      <td>0.348018</td>\n",
       "      <td>26.068309</td>\n",
       "    </tr>\n",
       "    <tr>\n",
       "      <th>3</th>\n",
       "      <td>0.322002</td>\n",
       "      <td>21.659677</td>\n",
       "    </tr>\n",
       "    <tr>\n",
       "      <th>4</th>\n",
       "      <td>0.299583</td>\n",
       "      <td>18.584961</td>\n",
       "    </tr>\n",
       "    <tr>\n",
       "      <th>5</th>\n",
       "      <td>0.278502</td>\n",
       "      <td>16.531534</td>\n",
       "    </tr>\n",
       "    <tr>\n",
       "      <th>6</th>\n",
       "      <td>0.276799</td>\n",
       "      <td>14.803033</td>\n",
       "    </tr>\n",
       "    <tr>\n",
       "      <th>7</th>\n",
       "      <td>0.275285</td>\n",
       "      <td>13.518977</td>\n",
       "    </tr>\n",
       "    <tr>\n",
       "      <th>8</th>\n",
       "      <td>0.276476</td>\n",
       "      <td>12.344987</td>\n",
       "    </tr>\n",
       "    <tr>\n",
       "      <th>9</th>\n",
       "      <td>0.272992</td>\n",
       "      <td>11.513532</td>\n",
       "    </tr>\n",
       "    <tr>\n",
       "      <th>10</th>\n",
       "      <td>0.275570</td>\n",
       "      <td>10.864798</td>\n",
       "    </tr>\n",
       "    <tr>\n",
       "      <th>11</th>\n",
       "      <td>0.274969</td>\n",
       "      <td>10.214400</td>\n",
       "    </tr>\n",
       "    <tr>\n",
       "      <th>12</th>\n",
       "      <td>0.256444</td>\n",
       "      <td>9.631211</td>\n",
       "    </tr>\n",
       "    <tr>\n",
       "      <th>13</th>\n",
       "      <td>0.261582</td>\n",
       "      <td>9.090069</td>\n",
       "    </tr>\n",
       "  </tbody>\n",
       "</table>\n",
       "</div>"
      ],
      "text/plain": [
       "    Silhouette Score    Inertia\n",
       "0           0.575087  79.046700\n",
       "1           0.334894  37.832920\n",
       "2           0.348018  26.068309\n",
       "3           0.322002  21.659677\n",
       "4           0.299583  18.584961\n",
       "5           0.278502  16.531534\n",
       "6           0.276799  14.803033\n",
       "7           0.275285  13.518977\n",
       "8           0.276476  12.344987\n",
       "9           0.272992  11.513532\n",
       "10          0.275570  10.864798\n",
       "11          0.274969  10.214400\n",
       "12          0.256444   9.631211\n",
       "13          0.261582   9.090069"
      ]
     },
     "execution_count": 7,
     "metadata": {},
     "output_type": "execute_result"
    }
   ],
   "source": [
    "result_pandas.loc[:, [\"Silhouette Score\", \"Inertia\"]]\n"
   ]
  },
  {
   "cell_type": "code",
   "execution_count": 8,
   "metadata": {},
   "outputs": [
    {
     "data": {
      "text/plain": [
       "<matplotlib.legend.Legend at 0x7fd726126d90>"
      ]
     },
     "execution_count": 8,
     "metadata": {},
     "output_type": "execute_result"
    },
    {
     "data": {
      "image/png": "[encoded data removed]",
      "text/plain": [
       "<Figure size 432x288 with 2 Axes>"
      ]
     },
     "metadata": {
      "needs_background": "light"
     },
     "output_type": "display_data"
    }
   ],
   "source": [
    "plt1 = result_pandas.plot(\n",
    "    x=\"Cluster count\", y=\"Inertia\", legend=False, ylabel=\"Inertia (lower is better)\"\n",
    ")\n",
    "plt2 = result_pandas.plot(\n",
    "    x=\"Cluster count\",\n",
    "    y=\"Silhouette Score\",\n",
    "    ax=plt1.twinx(),\n",
    "    color=\"red\",\n",
    "    legend=False,\n",
    "    ylabel=\"Silhouette Score (higher is better)\",\n",
    ")\n",
    "plt1.figure.legend()"
   ]
  },
  {
   "cell_type": "markdown",
   "metadata": {},
   "source": [
    "Result: the best result is achieved with cluster count of **2**. But, even with\n",
    "a cluster count of 5, we get a silhouette score of **0.28**."
   ]
  },
  {
   "cell_type": "markdown",
   "metadata": {},
   "source": [
    "# Finding adjusted rand score for KMedoid clustering"
   ]
  },
  {
   "cell_type": "code",
   "execution_count": 9,
   "metadata": {},
   "outputs": [],
   "source": [
    "kmeans = cluster.KMeans(n_clusters=10)\n",
    "kmeans.fit(histograms)\n",
    "prediction = kmeans.predict(histograms)"
   ]
  },
  {
   "cell_type": "code",
   "execution_count": 10,
   "metadata": {},
   "outputs": [],
   "source": [
    "true_labels = np.array([i for i in range(1000)]) // 100"
   ]
  },
  {
   "cell_type": "code",
   "execution_count": 11,
   "metadata": {},
   "outputs": [
    {
     "data": {
      "text/plain": [
       "0.20835641126659082"
      ]
     },
     "execution_count": 11,
     "metadata": {},
     "output_type": "execute_result"
    }
   ],
   "source": [
    "from sklearn.metrics.cluster import adjusted_rand_score\n",
    "adjusted_rand_score(true_labels, prediction)"
   ]
  }
 ],
 "metadata": {
  "interpreter": {
   "hash": "4ad027719b0c0a25794a95a32f7958301c58b5e221c7703d2733b6415c84db4d"
  },
  "kernelspec": {
   "display_name": "Python 3.9.7 64-bit ('Code-Kjb3QomJ': pipenv)",
   "name": "python3"
  },
  "language_info": {
   "codemirror_mode": {
    "name": "ipython",
    "version": 3
   },
   "file_extension": ".py",
   "mimetype": "text/x-python",
   "name": "python",
   "nbconvert_exporter": "python",
   "pygments_lexer": "ipython3",
   "version": "3.9.7"
  },
  "orig_nbformat": 4
 },
 "nbformat": 4,
 "nbformat_minor": 2
}
