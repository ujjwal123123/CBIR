{
 "cells": [
  {
   "cell_type": "markdown",
   "metadata": {},
   "source": [
    "# CBIR using Self Organising Maps"
   ]
  },
  {
   "cell_type": "code",
   "execution_count": 1,
   "metadata": {},
   "outputs": [],
   "source": [
    "from skimage import color, exposure, io\n",
    "import numpy as np\n",
    "from sklearn_som import som\n"
   ]
  },
  {
   "cell_type": "code",
   "execution_count": 2,
   "metadata": {},
   "outputs": [],
   "source": [
    "images = io.imread_collection(\"../image/*.jpg\")\n",
    "bin_count = 10\n"
   ]
  },
  {
   "cell_type": "code",
   "execution_count": 3,
   "metadata": {},
   "outputs": [
    {
     "data": {
      "text/plain": [
       "1000"
      ]
     },
     "execution_count": 3,
     "metadata": {},
     "output_type": "execute_result"
    }
   ],
   "source": [
    "len(images)"
   ]
  },
  {
   "cell_type": "markdown",
   "metadata": {},
   "source": [
    "We use histogram (specifically gray histogram) as feature for each image. This\n",
    "function is provided by `skimage` library and normalizes the features\n",
    "automatically."
   ]
  },
  {
   "cell_type": "code",
   "execution_count": 4,
   "metadata": {},
   "outputs": [],
   "source": [
    "def get_histogram(image, bins_count):\n",
    "    gray, _ = exposure.histogram(\n",
    "        color.rgb2gray(image), normalize=True, nbins=bins_count, source_range=\"dtype\"\n",
    "    )\n",
    "\n",
    "    return gray\n"
   ]
  },
  {
   "cell_type": "code",
   "execution_count": 5,
   "metadata": {},
   "outputs": [],
   "source": [
    "histograms = np.array([get_histogram(image, bin_count) for image in images])\n"
   ]
  },
  {
   "cell_type": "code",
   "execution_count": 6,
   "metadata": {},
   "outputs": [
    {
     "data": {
      "text/plain": [
       "array([[0.        , 0.        , 0.        , ..., 0.2890625 , 0.10013835,\n",
       "        0.02768962],\n",
       "       [0.        , 0.        , 0.        , ..., 0.30341593, 0.10340373,\n",
       "        0.02308146],\n",
       "       [0.        , 0.        , 0.        , ..., 0.20243327, 0.11354574,\n",
       "        0.087382  ],\n",
       "       ...,\n",
       "       [0.        , 0.        , 0.        , ..., 0.20765177, 0.15883382,\n",
       "        0.46002197],\n",
       "       [0.        , 0.        , 0.        , ..., 0.13086955, 0.1078186 ,\n",
       "        0.02756755],\n",
       "       [0.        , 0.        , 0.        , ..., 0.24273682, 0.24477132,\n",
       "        0.05014038]])"
      ]
     },
     "execution_count": 6,
     "metadata": {},
     "output_type": "execute_result"
    }
   ],
   "source": [
    "histograms"
   ]
  },
  {
   "cell_type": "code",
   "execution_count": 7,
   "metadata": {},
   "outputs": [],
   "source": [
    "def make_prediction(som_m, som_n):\n",
    "    model = som.SOM(som_m, som_n, dim=bin_count)\n",
    "    model.fit(histograms, 20)\n",
    "    model.predict(histograms)\n",
    "    return model.predict(histograms)\n"
   ]
  },
  {
   "cell_type": "code",
   "execution_count": 8,
   "metadata": {},
   "outputs": [],
   "source": [
    "from sklearn import metrics\n",
    "\n",
    "result = []\n",
    "\n",
    "for i in range(2, 10):\n",
    "    predictions = make_prediction(i, i)\n",
    "    result.append([i, metrics.silhouette_score(histograms, predictions)])\n"
   ]
  },
  {
   "cell_type": "code",
   "execution_count": 9,
   "metadata": {},
   "outputs": [],
   "source": [
    "import pandas\n",
    "\n",
    "result_pandas = pandas.DataFrame(result, columns=[\"SOM dimesion\", \"Silhouette score\"])\n"
   ]
  },
  {
   "cell_type": "code",
   "execution_count": 10,
   "metadata": {},
   "outputs": [
    {
     "data": {
      "text/html": [
       "<div>\n",
       "<style scoped>\n",
       "    .dataframe tbody tr th:only-of-type {\n",
       "        vertical-align: middle;\n",
       "    }\n",
       "\n",
       "    .dataframe tbody tr th {\n",
       "        vertical-align: top;\n",
       "    }\n",
       "\n",
       "    .dataframe thead th {\n",
       "        text-align: right;\n",
       "    }\n",
       "</style>\n",
       "<table border=\"1\" class=\"dataframe\">\n",
       "  <thead>\n",
       "    <tr style=\"text-align: right;\">\n",
       "      <th></th>\n",
       "      <th>SOM dimesion</th>\n",
       "      <th>Silhouette score</th>\n",
       "    </tr>\n",
       "  </thead>\n",
       "  <tbody>\n",
       "    <tr>\n",
       "      <th>0</th>\n",
       "      <td>2</td>\n",
       "      <td>0.295067</td>\n",
       "    </tr>\n",
       "    <tr>\n",
       "      <th>1</th>\n",
       "      <td>3</td>\n",
       "      <td>0.228671</td>\n",
       "    </tr>\n",
       "    <tr>\n",
       "      <th>2</th>\n",
       "      <td>4</td>\n",
       "      <td>0.214487</td>\n",
       "    </tr>\n",
       "    <tr>\n",
       "      <th>3</th>\n",
       "      <td>5</td>\n",
       "      <td>0.183059</td>\n",
       "    </tr>\n",
       "    <tr>\n",
       "      <th>4</th>\n",
       "      <td>6</td>\n",
       "      <td>0.168272</td>\n",
       "    </tr>\n",
       "    <tr>\n",
       "      <th>5</th>\n",
       "      <td>7</td>\n",
       "      <td>0.166634</td>\n",
       "    </tr>\n",
       "    <tr>\n",
       "      <th>6</th>\n",
       "      <td>8</td>\n",
       "      <td>0.143291</td>\n",
       "    </tr>\n",
       "    <tr>\n",
       "      <th>7</th>\n",
       "      <td>9</td>\n",
       "      <td>0.149616</td>\n",
       "    </tr>\n",
       "  </tbody>\n",
       "</table>\n",
       "</div>"
      ],
      "text/plain": [
       "   SOM dimesion  Silhouette score\n",
       "0             2          0.295067\n",
       "1             3          0.228671\n",
       "2             4          0.214487\n",
       "3             5          0.183059\n",
       "4             6          0.168272\n",
       "5             7          0.166634\n",
       "6             8          0.143291\n",
       "7             9          0.149616"
      ]
     },
     "execution_count": 10,
     "metadata": {},
     "output_type": "execute_result"
    }
   ],
   "source": [
    "result_pandas"
   ]
  },
  {
   "cell_type": "code",
   "execution_count": 11,
   "metadata": {},
   "outputs": [
    {
     "data": {
      "image/png": "[encoded data removed]",
      "text/plain": [
       "<Figure size 432x288 with 1 Axes>"
      ]
     },
     "metadata": {
      "needs_background": "light"
     },
     "output_type": "display_data"
    }
   ],
   "source": [
    "plot = result_pandas.plot(\n",
    "    x=\"SOM dimesion\",\n",
    "    y=\"Silhouette score\",\n",
    "    ylabel=\"Silhouette score (higher is better)\",\n",
    "    xlabel=\"SOM dimesion (n*n)\",\n",
    "    legend=True,\n",
    "    ylim=(0, 0.4)\n",
    ").get_figure().savefig(\"som.svg\", format=\"svg\")\n"
   ]
  },
  {
   "cell_type": "code",
   "execution_count": 14,
   "metadata": {},
   "outputs": [],
   "source": [
    "model = som.SOM(3, 3, dim=bin_count)\n",
    "model.fit(histograms)\n",
    "prediction = model.predict(histograms)\n"
   ]
  },
  {
   "cell_type": "code",
   "execution_count": 15,
   "metadata": {},
   "outputs": [
    {
     "data": {
      "text/plain": [
       "array([6, 7, 4, 8, 1, 7, 3, 6, 6, 6, 7, 7, 3, 3, 5, 1, 3, 0, 0, 6, 7, 7,\n",
       "       7, 4, 0, 7, 4, 6, 4, 3, 6, 7, 3, 8, 5, 3, 6, 3, 3, 1, 1, 1, 3, 1,\n",
       "       1, 0, 0, 4, 3, 3, 6, 3, 7, 7, 4, 3, 3, 0, 3, 3, 6, 7, 6, 1, 4, 0,\n",
       "       3, 3, 7, 0, 6, 8, 4, 2, 6, 6, 3, 7, 0, 2, 6, 3, 3, 0, 3, 3, 5, 3,\n",
       "       8, 3, 4, 4, 6, 4, 7, 1, 7, 7, 8, 6, 7, 5, 8, 7, 8, 3, 5, 8, 8, 4,\n",
       "       6, 6, 6, 8, 3, 7, 6, 5, 7, 8, 8, 3, 7, 5, 7, 8, 8, 8, 8, 6, 8, 5,\n",
       "       6, 6, 8, 6, 8, 8, 8, 8, 7, 6, 6, 6, 5, 8, 8, 6, 8, 8, 8, 6, 5, 7,\n",
       "       7, 6, 6, 8, 8, 8, 4, 8, 8, 8, 7, 6, 7, 3, 6, 6, 7, 6, 6, 6, 6, 6,\n",
       "       8, 8, 6, 8, 8, 6, 0, 6, 8, 8, 6, 6, 6, 0, 7, 8, 8, 7, 8, 8, 6, 8,\n",
       "       8, 8, 6, 3, 8, 7, 8, 7, 4, 1, 3, 1, 1, 1, 4, 0, 6, 7, 1, 4, 4, 8,\n",
       "       6, 5, 8, 1, 6, 6, 5, 6, 3, 8, 4, 4, 7, 3, 0, 7, 6, 4, 7, 8, 4, 8,\n",
       "       8, 6, 6, 0, 8, 3, 7, 3, 0, 6, 5, 4, 1, 8, 5, 3, 5, 7, 3, 4, 1, 6,\n",
       "       6, 1, 7, 8, 0, 3, 8, 8, 8, 0, 0, 4, 0, 8, 8, 7, 8, 8, 7, 1, 4, 8,\n",
       "       8, 4, 8, 8, 4, 8, 5, 8, 5, 0, 7, 4, 8, 5, 0, 4, 0, 0, 3, 4, 1, 3,\n",
       "       4, 4, 4, 7, 4, 4, 0, 0, 1, 0, 6, 6, 1, 4, 0, 1, 3, 1, 4, 0, 7, 0,\n",
       "       3, 4, 1, 7, 1, 1, 4, 4, 8, 0, 4, 3, 1, 8, 0, 4, 3, 7, 3, 7, 6, 0,\n",
       "       3, 6, 6, 4, 0, 4, 0, 8, 3, 5, 1, 4, 4, 8, 0, 4, 4, 3, 7, 3, 0, 4,\n",
       "       1, 7, 3, 6, 4, 7, 4, 4, 3, 4, 4, 0, 4, 3, 7, 4, 0, 4, 0, 4, 4, 4,\n",
       "       0, 0, 3, 4, 2, 2, 2, 2, 2, 2, 2, 2, 2, 2, 2, 2, 2, 2, 2, 2, 2, 2,\n",
       "       2, 2, 2, 2, 2, 2, 2, 2, 2, 2, 2, 2, 2, 2, 2, 2, 2, 2, 2, 2, 2, 2,\n",
       "       2, 2, 2, 2, 2, 2, 2, 2, 2, 2, 2, 2, 2, 2, 2, 2, 2, 2, 2, 2, 2, 2,\n",
       "       2, 2, 2, 2, 2, 2, 2, 2, 2, 2, 2, 2, 2, 2, 2, 2, 2, 2, 2, 2, 2, 2,\n",
       "       2, 2, 2, 2, 2, 2, 2, 2, 2, 2, 2, 2, 2, 2, 2, 2, 5, 5, 8, 7, 8, 5,\n",
       "       5, 5, 5, 8, 8, 6, 7, 8, 8, 8, 4, 5, 8, 8, 7, 5, 8, 5, 5, 8, 5, 8,\n",
       "       7, 5, 5, 8, 8, 8, 8, 8, 8, 8, 5, 5, 8, 8, 8, 5, 8, 7, 8, 8, 5, 5,\n",
       "       8, 7, 8, 5, 8, 8, 5, 8, 5, 8, 8, 5, 8, 8, 5, 8, 7, 7, 8, 7, 8, 7,\n",
       "       8, 5, 5, 7, 8, 8, 5, 8, 8, 5, 5, 8, 5, 5, 2, 8, 8, 5, 5, 5, 2, 5,\n",
       "       8, 5, 2, 8, 8, 2, 0, 6, 0, 0, 0, 0, 0, 3, 0, 4, 0, 0, 0, 0, 0, 0,\n",
       "       0, 0, 0, 0, 0, 0, 0, 0, 0, 0, 0, 0, 0, 0, 0, 0, 0, 0, 0, 0, 0, 0,\n",
       "       0, 0, 6, 0, 0, 0, 0, 0, 6, 0, 0, 0, 0, 0, 0, 0, 6, 0, 0, 0, 0, 0,\n",
       "       0, 0, 0, 0, 0, 0, 0, 0, 0, 0, 0, 0, 3, 0, 0, 0, 6, 0, 0, 0, 6, 0,\n",
       "       0, 6, 0, 0, 0, 0, 0, 4, 0, 6, 0, 6, 7, 6, 6, 6, 0, 0, 6, 6, 8, 8,\n",
       "       8, 7, 6, 8, 8, 0, 6, 8, 6, 3, 3, 0, 8, 6, 6, 8, 8, 6, 6, 6, 6, 6,\n",
       "       8, 8, 8, 6, 3, 8, 6, 6, 6, 6, 3, 6, 5, 6, 3, 8, 6, 8, 5, 8, 8, 6,\n",
       "       8, 6, 8, 6, 6, 8, 7, 8, 8, 8, 8, 0, 8, 8, 8, 6, 5, 7, 6, 6, 8, 6,\n",
       "       6, 0, 6, 6, 8, 7, 8, 8, 8, 6, 8, 3, 8, 7, 0, 6, 6, 6, 8, 8, 8, 6,\n",
       "       3, 8, 7, 6, 8, 8, 0, 6, 4, 4, 7, 6, 6, 6, 7, 6, 0, 6, 0, 8, 8, 6,\n",
       "       7, 6, 4, 0, 5, 3, 8, 6, 5, 8, 7, 0, 6, 4, 7, 7, 6, 4, 3, 8, 7, 5,\n",
       "       1, 8, 5, 5, 4, 2, 0, 1, 3, 6, 8, 5, 0, 5, 6, 1, 4, 3, 4, 7, 3, 4,\n",
       "       5, 5, 7, 7, 8, 3, 8, 6, 5, 5, 4, 1, 6, 7, 6, 4, 8, 7, 8, 5, 8, 5,\n",
       "       7, 7, 8, 6, 4, 5, 8, 4, 6, 8, 1, 7, 6, 3, 6, 8, 4, 8, 6, 5, 7, 7,\n",
       "       3, 1, 1, 4, 4, 7, 3, 4, 7, 4, 8, 5, 7, 7, 6, 6, 0, 8, 7, 0, 4, 0,\n",
       "       0, 0, 5, 5, 0, 0, 4, 3, 8, 4, 4, 0, 7, 3, 8, 4, 3, 7, 7, 0, 4, 7,\n",
       "       4, 5, 0, 0, 0, 0, 0, 0, 0, 0, 4, 8, 0, 0, 4, 2, 4, 0, 0, 3, 3, 7,\n",
       "       6, 0, 0, 3, 5, 0, 7, 3, 3, 4, 0, 0, 7, 3, 0, 0, 8, 8, 5, 8, 4, 7,\n",
       "       7, 5, 5, 5, 0, 2, 4, 2, 0, 4])"
      ]
     },
     "execution_count": 15,
     "metadata": {},
     "output_type": "execute_result"
    }
   ],
   "source": [
    "prediction"
   ]
  },
  {
   "cell_type": "code",
   "execution_count": 17,
   "metadata": {},
   "outputs": [],
   "source": [
    "result_pandas.to_excel(\"som.xlsx\")"
   ]
  },
  {
   "cell_type": "markdown",
   "metadata": {},
   "source": [
    "# Finding adjusted rand score for SOM"
   ]
  },
  {
   "cell_type": "code",
   "execution_count": 18,
   "metadata": {},
   "outputs": [],
   "source": [
    "model = som.SOM(5, 2, dim=bin_count)\n",
    "model.fit(histograms)\n",
    "prediction = model.predict(histograms)"
   ]
  },
  {
   "cell_type": "code",
   "execution_count": 19,
   "metadata": {},
   "outputs": [],
   "source": [
    "true_labels = np.array([i for i in range(1000)]) // 100"
   ]
  },
  {
   "cell_type": "code",
   "execution_count": 20,
   "metadata": {},
   "outputs": [
    {
     "data": {
      "text/plain": [
       "0.2004079838061147"
      ]
     },
     "execution_count": 20,
     "metadata": {},
     "output_type": "execute_result"
    }
   ],
   "source": [
    "from sklearn.metrics.cluster import adjusted_rand_score\n",
    "adjusted_rand_score(true_labels, prediction)"
   ]
  }
 ],
 "metadata": {
  "interpreter": {
   "hash": "4ad027719b0c0a25794a95a32f7958301c58b5e221c7703d2733b6415c84db4d"
  },
  "kernelspec": {
   "display_name": "Python 3.9.7 64-bit ('Code-Kjb3QomJ': pipenv)",
   "name": "python3"
  },
  "language_info": {
   "codemirror_mode": {
    "name": "ipython",
    "version": 3
   },
   "file_extension": ".py",
   "mimetype": "text/x-python",
   "name": "python",
   "nbconvert_exporter": "python",
   "pygments_lexer": "ipython3",
   "version": "3.9.7"
  },
  "orig_nbformat": 4
 },
 "nbformat": 4,
 "nbformat_minor": 2
}
