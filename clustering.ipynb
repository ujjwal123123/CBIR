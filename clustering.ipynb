{
 "cells": [
  {
   "cell_type": "code",
   "execution_count": null,
   "metadata": {},
   "outputs": [],
   "source": [
    "from skimage import color, exposure, io\n",
    "import numpy as np"
   ]
  },
  {
   "cell_type": "code",
   "execution_count": null,
   "metadata": {},
   "outputs": [],
   "source": [
    "images = io.imread_collection(\"image/*.jpg\")"
   ]
  },
  {
   "cell_type": "code",
   "execution_count": null,
   "metadata": {},
   "outputs": [],
   "source": [
    "def get_histogram(image, bins_count):\n",
    "    gray, _ = exposure.histogram(\n",
    "        color.rgb2gray(image), normalize=True, nbins=bins_count, source_range=\"dtype\"\n",
    "    )\n",
    "\n",
    "    return gray\n"
   ]
  },
  {
   "cell_type": "code",
   "execution_count": 1,
   "metadata": {},
   "outputs": [
    {
     "ename": "ModuleNotFoundError",
     "evalue": "No module named 'seaborn'",
     "output_type": "error",
     "traceback": [
      "\u001b[0;31m---------------------------------------------------------------------------\u001b[0m",
      "\u001b[0;31mModuleNotFoundError\u001b[0m                       Traceback (most recent call last)",
      "\u001b[0;32m/tmp/ipykernel_727237/882379384.py\u001b[0m in \u001b[0;36m<module>\u001b[0;34m\u001b[0m\n\u001b[1;32m      1\u001b[0m \u001b[0;32mfrom\u001b[0m \u001b[0msklearn\u001b[0m \u001b[0;32mimport\u001b[0m \u001b[0mcluster\u001b[0m\u001b[0;34m,\u001b[0m \u001b[0mmetrics\u001b[0m\u001b[0;34m\u001b[0m\u001b[0;34m\u001b[0m\u001b[0m\n\u001b[0;32m----> 2\u001b[0;31m \u001b[0;32mimport\u001b[0m \u001b[0mseaborn\u001b[0m\u001b[0;34m\u001b[0m\u001b[0;34m\u001b[0m\u001b[0m\n\u001b[0m",
      "\u001b[0;31mModuleNotFoundError\u001b[0m: No module named 'seaborn'"
     ]
    }
   ],
   "source": [
    "from sklearn import cluster, metrics\n",
    "import seaborn"
   ]
  },
  {
   "cell_type": "markdown",
   "metadata": {},
   "source": [
    "## Varying cluster count"
   ]
  },
  {
   "cell_type": "code",
   "execution_count": null,
   "metadata": {},
   "outputs": [],
   "source": [
    "[histograms[0]]"
   ]
  },
  {
   "cell_type": "code",
   "execution_count": null,
   "metadata": {},
   "outputs": [
    {
     "name": "stdout",
     "output_type": "stream",
     "text": [
      "[2, 0.5750866220417388, 79.04670026209612]\n",
      "[4, 0.3349341673038641, 37.83292970661778]\n",
      "[6, 0.34801758377873176, 26.068308896759902]\n",
      "[8, 0.3070323788007289, 21.659076632400534]\n",
      "[10, 0.2961448958078744, 18.514487677244137]\n",
      "[12, 0.2797017398501804, 16.46199055331246]\n",
      "[14, 0.27747266543362914, 14.80388025556765]\n",
      "[16, 0.2640298713281567, 13.549592566159468]\n",
      "[18, 0.27391610740145084, 12.369355373763986]\n",
      "[20, 0.27396632525903203, 11.642632953664899]\n",
      "[22, 0.26256994946350887, 10.88149153606194]\n",
      "[24, 0.2624607492299714, 10.1885926836916]\n",
      "[26, 0.2809717816981347, 9.573612688714725]\n",
      "[28, 0.26023250072375803, 9.1656891333157]\n"
     ]
    }
   ],
   "source": [
    "histograms = np.array([get_histogram(image, 10) for image in images])\n",
    "\n",
    "result = []\n",
    "\n",
    "for i in range(2, 30, 2):\n",
    "    kmeans = cluster.KMeans(n_clusters=i)\n",
    "    kmeans.fit(histograms)\n",
    "    labels = kmeans.labels_\n",
    "    result.append([i, metrics.silhouette_score(histograms, labels), kmeans.inertia_])\n",
    "    print(result[-1])"
   ]
  },
  {
   "cell_type": "code",
   "execution_count": null,
   "metadata": {},
   "outputs": [
    {
     "data": {
      "text/plain": [
       "[<matplotlib.lines.Line2D at 0x7f9f37da0fa0>,\n",
       " <matplotlib.lines.Line2D at 0x7f9f37d9adc0>,\n",
       " <matplotlib.lines.Line2D at 0x7f9f37d9adf0>]"
      ]
     },
     "execution_count": 34,
     "metadata": {},
     "output_type": "execute_result"
    },
    {
     "data": {
      "image/png": "[encoded data removed]",
      "text/plain": [
       "<Figure size 432x288 with 1 Axes>"
      ]
     },
     "metadata": {
      "needs_background": "light"
     },
     "output_type": "display_data"
    }
   ],
   "source": [
    "plt.plot(result)\n",
    "# TODO: plot is better"
   ]
  },
  {
   "cell_type": "markdown",
   "metadata": {},
   "source": [
    "## Varying bin count"
   ]
  },
  {
   "cell_type": "code",
   "execution_count": null,
   "metadata": {},
   "outputs": [
    {
     "name": "stdout",
     "output_type": "stream",
     "text": [
      "2 0.29402508959794477 18.56230401750335\n",
      "4 0.3000625022722013 18.50939313651213\n",
      "6 0.30077429337903394 18.49434694027593\n",
      "8 0.29663451634496096 18.51033454511588\n",
      "10 0.3002637027607097 18.50847662391722\n",
      "12 0.29780221923832834 18.513036621590903\n",
      "14 0.30136825586879373 18.522679246238244\n",
      "16 0.30152531705352514 18.52136248445165\n",
      "18 0.3025146177678809 18.56125019245344\n"
     ]
    }
   ],
   "source": [
    "for i in range(2, 20, 2):\n",
    "    histograms = np.array([get_histogram(image, 10) for image in images])\n",
    "    kmeans = cluster.KMeans(n_clusters=10)\n",
    "    kmeans.fit(histograms)\n",
    "    labels = kmeans.labels_\n",
    "    print(i, metrics.silhouette_score(histograms, labels), kmeans.inertia_)"
   ]
  }
 ],
 "metadata": {
  "interpreter": {
   "hash": "4ad027719b0c0a25794a95a32f7958301c58b5e221c7703d2733b6415c84db4d"
  },
  "kernelspec": {
   "display_name": "Python 3.9.7 64-bit ('Code-Kjb3QomJ': pipenv)",
   "name": "python3"
  },
  "language_info": {
   "codemirror_mode": {
    "name": "ipython",
    "version": 3
   },
   "file_extension": ".py",
   "mimetype": "text/x-python",
   "name": "python",
   "nbconvert_exporter": "python",
   "pygments_lexer": "ipython3",
   "version": "3.9.7"
  },
  "orig_nbformat": 4
 },
 "nbformat": 4,
 "nbformat_minor": 2
}
